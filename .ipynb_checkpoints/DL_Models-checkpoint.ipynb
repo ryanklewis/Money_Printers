{
 "cells": [
  {
   "cell_type": "code",
   "execution_count": null,
   "metadata": {},
   "outputs": [],
   "source": [
    "import torch\n",
    "import torch.nn as nn"
   ]
  },
  {
   "cell_type": "markdown",
   "metadata": {},
   "source": [
    "Designing LSTM Model Architecture"
   ]
  },
  {
   "cell_type": "code",
   "execution_count": null,
   "metadata": {},
   "outputs": [],
   "source": [
    "class LSTMModel(nn.Module):\n",
    "    def __init__(self, input_size, hidden_size, num_layers, output_size, dropout_rate=0.2):\n",
    "        super(LSTMModel, self).__init__()\n",
    "        \n",
    "        # LSTM layers\n",
    "        self.lstm = nn.LSTM(input_size, hidden_size, num_layers, batch_first=True, dropout=dropout_rate)\n",
    "        \n",
    "        # Dropout layer\n",
    "        self.dropout = nn.Dropout(dropout_rate)\n",
    "        \n",
    "        # Fully connected layer (output layer)\n",
    "        self.fc = nn.Linear(hidden_size, output_size)\n",
    "    \n",
    "    def forward(self, x):\n",
    "        # x: (batch_size, seq_length, input_size)\n",
    "        \n",
    "        # Passing the input through LSTM layers\n",
    "        lstm_out, (h_n, c_n) = self.lstm(x)\n",
    "        \n",
    "        # Applying dropout to the final hidden state\n",
    "        out = self.dropout(lstm_out[:, -1, :])  # take output from the last time step\n",
    "        \n",
    "        # Passing through the fully connected output layer\n",
    "        out = self.fc(out)\n",
    "        \n",
    "        return out"
   ]
  },
  {
   "cell_type": "markdown",
   "metadata": {},
   "source": [
    "Hyperparameter Tuning"
   ]
  },
  {
   "cell_type": "code",
   "execution_count": null,
   "metadata": {},
   "outputs": [],
   "source": [
    "input_size = 10  # Number of input features (e.g., from feature engineering)\n",
    "hidden_size = 128  # Number of LSTM units\n",
    "num_layers = 2  # Number of LSTM layers\n",
    "output_size = 1  # Predicting market volatility\n",
    "dropout_rate = 0.2  # Dropout rate\n",
    "\n",
    "model = LSTMModel(input_size, hidden_size, num_layers, output_size, dropout_rate)"
   ]
  },
  {
   "cell_type": "markdown",
   "metadata": {},
   "source": [
    "Designing CNN Model Architecture"
   ]
  },
  {
   "cell_type": "code",
   "execution_count": null,
   "metadata": {},
   "outputs": [],
   "source": [
    "class CNNModel(nn.Module):\n",
    "    def __init__(self, input_channels, num_filters, kernel_size, output_size, fc_hidden_size=128, dropout_rate=0.2):\n",
    "        super(CNNModel, self).__init__()\n",
    "        \n",
    "        # Convolutional layer\n",
    "        self.conv1 = nn.Conv2d(in_channels=input_channels, out_channels=num_filters, kernel_size=kernel_size, padding=1)\n",
    "        \n",
    "        # Batch normalization\n",
    "        self.batchnorm1 = nn.BatchNorm2d(num_filters)\n",
    "        \n",
    "        # Pooling layer\n",
    "        self.pool = nn.MaxPool2d(kernel_size=2, stride=2)\n",
    "        \n",
    "        # Fully connected layer\n",
    "        self.fc1 = nn.Linear(num_filters * (input_channels // 2) * (input_channels // 2), fc_hidden_size)\n",
    "        self.dropout = nn.Dropout(dropout_rate)\n",
    "        \n",
    "        # Output layer\n",
    "        self.fc2 = nn.Linear(fc_hidden_size, output_size)\n",
    "    \n",
    "    def forward(self, x):\n",
    "        # x: (batch_size, input_channels, height, width)\n",
    "        \n",
    "        # Convolutional layer + activation\n",
    "        x = self.conv1(x)\n",
    "        x = torch.relu(self.batchnorm1(x))\n",
    "        \n",
    "        # Pooling layer\n",
    "        x = self.pool(x)\n",
    "        \n",
    "        # Flatten the output from the convolutional layer\n",
    "        x = x.view(x.size(0), -1)\n",
    "        \n",
    "        # Fully connected layers\n",
    "        x = torch.relu(self.fc1(x))\n",
    "        x = self.dropout(x)\n",
    "        x = self.fc2(x)\n",
    "        \n",
    "        return x"
   ]
  },
  {
   "cell_type": "markdown",
   "metadata": {},
   "source": [
    "Hyperparameter Tuning"
   ]
  },
  {
   "cell_type": "code",
   "execution_count": null,
   "metadata": {},
   "outputs": [],
   "source": [
    "input_channels = 10  # Number of time-series features (e.g., 10 windows)\n",
    "num_filters = 32  # Number of convolution filters\n",
    "kernel_size = 3  # Size of convolutional filter\n",
    "output_size = 1  # Predicting future price\n",
    "fc_hidden_size = 128  # Hidden units in fully connected layer\n",
    "dropout_rate = 0.2  # Dropout rate\n",
    "\n",
    "cnn_model = CNNModel(input_channels, num_filters, kernel_size, output_size, fc_hidden_size, dropout_rate)"
   ]
  }
 ],
 "metadata": {
  "kernelspec": {
   "display_name": "base",
   "language": "python",
   "name": "python3"
  },
  "language_info": {
   "name": "python",
   "version": "3.11.5"
  }
 },
 "nbformat": 4,
 "nbformat_minor": 2
}
